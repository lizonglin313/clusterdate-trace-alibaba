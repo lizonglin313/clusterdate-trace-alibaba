{
 "cells": [
  {
   "cell_type": "code",
   "execution_count": 1,
   "metadata": {},
   "outputs": [],
   "source": [
    "import pandas as pd"
   ]
  },
  {
   "cell_type": "code",
   "execution_count": 8,
   "metadata": {},
   "outputs": [],
   "source": [
    "# 读取大csv文件\n",
    "def read_big_csv(path):\n",
    "    df_chunk =  pd.read_csv(path, chunksize=1000)\n",
    "    res_chunk = []\n",
    "    for chunk in df_chunk:\n",
    "        res_chunk.append(chunk)\n",
    "    res_df = pd.concat(res_chunk)\n",
    "    return res_df"
   ]
  },
  {
   "cell_type": "code",
   "execution_count": 2,
   "metadata": {},
   "outputs": [],
   "source": [
    "file_path = 'D:/Coding/Dataset/AlibabaClusterTrace/MicroserviceTrace/Node/Node_0.csv'\n",
    "node_data = pd.read_csv(file_path)      # 经过测试还是这样快 因为内存大不需要多次读取"
   ]
  },
  {
   "cell_type": "code",
   "execution_count": 4,
   "metadata": {},
   "outputs": [
    {
     "data": {
      "text/html": [
       "<div>\n",
       "<style scoped>\n",
       "    .dataframe tbody tr th:only-of-type {\n",
       "        vertical-align: middle;\n",
       "    }\n",
       "\n",
       "    .dataframe tbody tr th {\n",
       "        vertical-align: top;\n",
       "    }\n",
       "\n",
       "    .dataframe thead th {\n",
       "        text-align: right;\n",
       "    }\n",
       "</style>\n",
       "<table border=\"1\" class=\"dataframe\">\n",
       "  <thead>\n",
       "    <tr style=\"text-align: right;\">\n",
       "      <th></th>\n",
       "      <th>Unnamed: 0</th>\n",
       "      <th>timestamp</th>\n",
       "      <th>nodeid</th>\n",
       "      <th>node_cpu_usage</th>\n",
       "      <th>node_memory_usage</th>\n",
       "    </tr>\n",
       "  </thead>\n",
       "  <tbody>\n",
       "    <tr>\n",
       "      <th>0</th>\n",
       "      <td>0</td>\n",
       "      <td>35820000</td>\n",
       "      <td>b1f98eed32dcd1bcb575af5f483ab12c3b7981b7d25c65...</td>\n",
       "      <td>0.597652</td>\n",
       "      <td>0.764590</td>\n",
       "    </tr>\n",
       "    <tr>\n",
       "      <th>1</th>\n",
       "      <td>1</td>\n",
       "      <td>0</td>\n",
       "      <td>50f7c53d8692424fbe603c78b4e61c19276a7823df7a85...</td>\n",
       "      <td>0.693309</td>\n",
       "      <td>0.753463</td>\n",
       "    </tr>\n",
       "    <tr>\n",
       "      <th>2</th>\n",
       "      <td>2</td>\n",
       "      <td>0</td>\n",
       "      <td>02d27a3d3bfa1b60f607ef05c14d2e37ef2fdb271e32e7...</td>\n",
       "      <td>0.720848</td>\n",
       "      <td>0.803620</td>\n",
       "    </tr>\n",
       "    <tr>\n",
       "      <th>3</th>\n",
       "      <td>3</td>\n",
       "      <td>0</td>\n",
       "      <td>b5952eee6a521b0f2b7ae15b122cc5a3714aba85cd5614...</td>\n",
       "      <td>0.679287</td>\n",
       "      <td>0.782882</td>\n",
       "    </tr>\n",
       "    <tr>\n",
       "      <th>4</th>\n",
       "      <td>4</td>\n",
       "      <td>0</td>\n",
       "      <td>2acfac3d84cd4aa3bb5d243069d18b8b2bcc8dfb84527c...</td>\n",
       "      <td>0.768881</td>\n",
       "      <td>0.776962</td>\n",
       "    </tr>\n",
       "    <tr>\n",
       "      <th>5</th>\n",
       "      <td>5</td>\n",
       "      <td>0</td>\n",
       "      <td>5cbd9ac26a81e868dfadf945054eb6bd8703131c99c536...</td>\n",
       "      <td>0.773522</td>\n",
       "      <td>0.765957</td>\n",
       "    </tr>\n",
       "    <tr>\n",
       "      <th>6</th>\n",
       "      <td>6</td>\n",
       "      <td>0</td>\n",
       "      <td>f66333e4613351b2dd89e7ffdb604cb4016f34c4084ec3...</td>\n",
       "      <td>0.428794</td>\n",
       "      <td>0.794682</td>\n",
       "    </tr>\n",
       "    <tr>\n",
       "      <th>7</th>\n",
       "      <td>7</td>\n",
       "      <td>0</td>\n",
       "      <td>1946291c5b695555122161e1bd00a4e955b32520ff3bf7...</td>\n",
       "      <td>0.383802</td>\n",
       "      <td>0.788398</td>\n",
       "    </tr>\n",
       "    <tr>\n",
       "      <th>8</th>\n",
       "      <td>8</td>\n",
       "      <td>0</td>\n",
       "      <td>2d36938c8e73138710f776269a1146eab7c2f6be4f6f4a...</td>\n",
       "      <td>0.719347</td>\n",
       "      <td>0.810243</td>\n",
       "    </tr>\n",
       "    <tr>\n",
       "      <th>9</th>\n",
       "      <td>9</td>\n",
       "      <td>0</td>\n",
       "      <td>bb23c55fca977cfd860f6a929d22f4cfd74f395bc295e1...</td>\n",
       "      <td>0.792145</td>\n",
       "      <td>0.750080</td>\n",
       "    </tr>\n",
       "  </tbody>\n",
       "</table>\n",
       "</div>"
      ],
      "text/plain": [
       "   Unnamed: 0  timestamp                                             nodeid  \\\n",
       "0           0   35820000  b1f98eed32dcd1bcb575af5f483ab12c3b7981b7d25c65...   \n",
       "1           1          0  50f7c53d8692424fbe603c78b4e61c19276a7823df7a85...   \n",
       "2           2          0  02d27a3d3bfa1b60f607ef05c14d2e37ef2fdb271e32e7...   \n",
       "3           3          0  b5952eee6a521b0f2b7ae15b122cc5a3714aba85cd5614...   \n",
       "4           4          0  2acfac3d84cd4aa3bb5d243069d18b8b2bcc8dfb84527c...   \n",
       "5           5          0  5cbd9ac26a81e868dfadf945054eb6bd8703131c99c536...   \n",
       "6           6          0  f66333e4613351b2dd89e7ffdb604cb4016f34c4084ec3...   \n",
       "7           7          0  1946291c5b695555122161e1bd00a4e955b32520ff3bf7...   \n",
       "8           8          0  2d36938c8e73138710f776269a1146eab7c2f6be4f6f4a...   \n",
       "9           9          0  bb23c55fca977cfd860f6a929d22f4cfd74f395bc295e1...   \n",
       "\n",
       "   node_cpu_usage  node_memory_usage  \n",
       "0        0.597652           0.764590  \n",
       "1        0.693309           0.753463  \n",
       "2        0.720848           0.803620  \n",
       "3        0.679287           0.782882  \n",
       "4        0.768881           0.776962  \n",
       "5        0.773522           0.765957  \n",
       "6        0.428794           0.794682  \n",
       "7        0.383802           0.788398  \n",
       "8        0.719347           0.810243  \n",
       "9        0.792145           0.750080  "
      ]
     },
     "execution_count": 4,
     "metadata": {},
     "output_type": "execute_result"
    }
   ],
   "source": [
    "node_data.head(10)"
   ]
  },
  {
   "cell_type": "code",
   "execution_count": 54,
   "metadata": {},
   "outputs": [],
   "source": [
    "source_data = node_data.groupby('timestamp').sum()"
   ]
  },
  {
   "cell_type": "code",
   "execution_count": 55,
   "metadata": {},
   "outputs": [],
   "source": [
    "source_data = source_data.drop(columns=['Unnamed: 0'])"
   ]
  },
  {
   "cell_type": "code",
   "execution_count": 47,
   "metadata": {},
   "outputs": [
    {
     "data": {
      "text/html": [
       "<div>\n",
       "<style scoped>\n",
       "    .dataframe tbody tr th:only-of-type {\n",
       "        vertical-align: middle;\n",
       "    }\n",
       "\n",
       "    .dataframe tbody tr th {\n",
       "        vertical-align: top;\n",
       "    }\n",
       "\n",
       "    .dataframe thead th {\n",
       "        text-align: right;\n",
       "    }\n",
       "</style>\n",
       "<table border=\"1\" class=\"dataframe\">\n",
       "  <thead>\n",
       "    <tr style=\"text-align: right;\">\n",
       "      <th></th>\n",
       "      <th>node_cpu_usage</th>\n",
       "      <th>node_memory_usage</th>\n",
       "    </tr>\n",
       "    <tr>\n",
       "      <th>timestamp</th>\n",
       "      <th></th>\n",
       "      <th></th>\n",
       "    </tr>\n",
       "  </thead>\n",
       "  <tbody>\n",
       "    <tr>\n",
       "      <th>0</th>\n",
       "      <td>9027.989180</td>\n",
       "      <td>9799.291909</td>\n",
       "    </tr>\n",
       "    <tr>\n",
       "      <th>30000</th>\n",
       "      <td>8992.537052</td>\n",
       "      <td>9799.102559</td>\n",
       "    </tr>\n",
       "    <tr>\n",
       "      <th>60000</th>\n",
       "      <td>8990.630661</td>\n",
       "      <td>9798.500761</td>\n",
       "    </tr>\n",
       "    <tr>\n",
       "      <th>90000</th>\n",
       "      <td>8977.928726</td>\n",
       "      <td>9798.810724</td>\n",
       "    </tr>\n",
       "    <tr>\n",
       "      <th>120000</th>\n",
       "      <td>8967.713103</td>\n",
       "      <td>9797.922752</td>\n",
       "    </tr>\n",
       "  </tbody>\n",
       "</table>\n",
       "</div>"
      ],
      "text/plain": [
       "           node_cpu_usage  node_memory_usage\n",
       "timestamp                                   \n",
       "0             9027.989180        9799.291909\n",
       "30000         8992.537052        9799.102559\n",
       "60000         8990.630661        9798.500761\n",
       "90000         8977.928726        9798.810724\n",
       "120000        8967.713103        9797.922752"
      ]
     },
     "execution_count": 47,
     "metadata": {},
     "output_type": "execute_result"
    }
   ],
   "source": [
    "source_data.head()"
   ]
  },
  {
   "cell_type": "code",
   "execution_count": 56,
   "metadata": {},
   "outputs": [],
   "source": [
    "source_data = source_data.reset_index()"
   ]
  },
  {
   "cell_type": "code",
   "execution_count": 57,
   "metadata": {},
   "outputs": [
    {
     "data": {
      "text/html": [
       "<div>\n",
       "<style scoped>\n",
       "    .dataframe tbody tr th:only-of-type {\n",
       "        vertical-align: middle;\n",
       "    }\n",
       "\n",
       "    .dataframe tbody tr th {\n",
       "        vertical-align: top;\n",
       "    }\n",
       "\n",
       "    .dataframe thead th {\n",
       "        text-align: right;\n",
       "    }\n",
       "</style>\n",
       "<table border=\"1\" class=\"dataframe\">\n",
       "  <thead>\n",
       "    <tr style=\"text-align: right;\">\n",
       "      <th></th>\n",
       "      <th>timestamp</th>\n",
       "      <th>node_cpu_usage</th>\n",
       "      <th>node_memory_usage</th>\n",
       "    </tr>\n",
       "  </thead>\n",
       "  <tbody>\n",
       "    <tr>\n",
       "      <th>0</th>\n",
       "      <td>0</td>\n",
       "      <td>9027.989180</td>\n",
       "      <td>9799.291909</td>\n",
       "    </tr>\n",
       "    <tr>\n",
       "      <th>1</th>\n",
       "      <td>30000</td>\n",
       "      <td>8992.537052</td>\n",
       "      <td>9799.102559</td>\n",
       "    </tr>\n",
       "    <tr>\n",
       "      <th>2</th>\n",
       "      <td>60000</td>\n",
       "      <td>8990.630661</td>\n",
       "      <td>9798.500761</td>\n",
       "    </tr>\n",
       "    <tr>\n",
       "      <th>3</th>\n",
       "      <td>90000</td>\n",
       "      <td>8977.928726</td>\n",
       "      <td>9798.810724</td>\n",
       "    </tr>\n",
       "    <tr>\n",
       "      <th>4</th>\n",
       "      <td>120000</td>\n",
       "      <td>8967.713103</td>\n",
       "      <td>9797.922752</td>\n",
       "    </tr>\n",
       "  </tbody>\n",
       "</table>\n",
       "</div>"
      ],
      "text/plain": [
       "   timestamp  node_cpu_usage  node_memory_usage\n",
       "0          0     9027.989180        9799.291909\n",
       "1      30000     8992.537052        9799.102559\n",
       "2      60000     8990.630661        9798.500761\n",
       "3      90000     8977.928726        9798.810724\n",
       "4     120000     8967.713103        9797.922752"
      ]
     },
     "execution_count": 57,
     "metadata": {},
     "output_type": "execute_result"
    }
   ],
   "source": [
    "source_data.head()"
   ]
  },
  {
   "cell_type": "code",
   "execution_count": 58,
   "metadata": {},
   "outputs": [],
   "source": [
    "source_data['time_idx'] = source_data['timestamp'].map(lambda x: int(x/30000))"
   ]
  },
  {
   "cell_type": "code",
   "execution_count": 59,
   "metadata": {},
   "outputs": [
    {
     "data": {
      "text/html": [
       "<div>\n",
       "<style scoped>\n",
       "    .dataframe tbody tr th:only-of-type {\n",
       "        vertical-align: middle;\n",
       "    }\n",
       "\n",
       "    .dataframe tbody tr th {\n",
       "        vertical-align: top;\n",
       "    }\n",
       "\n",
       "    .dataframe thead th {\n",
       "        text-align: right;\n",
       "    }\n",
       "</style>\n",
       "<table border=\"1\" class=\"dataframe\">\n",
       "  <thead>\n",
       "    <tr style=\"text-align: right;\">\n",
       "      <th></th>\n",
       "      <th>timestamp</th>\n",
       "      <th>node_cpu_usage</th>\n",
       "      <th>node_memory_usage</th>\n",
       "      <th>time_idx</th>\n",
       "    </tr>\n",
       "  </thead>\n",
       "  <tbody>\n",
       "    <tr>\n",
       "      <th>0</th>\n",
       "      <td>0</td>\n",
       "      <td>9027.989180</td>\n",
       "      <td>9799.291909</td>\n",
       "      <td>0</td>\n",
       "    </tr>\n",
       "    <tr>\n",
       "      <th>1</th>\n",
       "      <td>30000</td>\n",
       "      <td>8992.537052</td>\n",
       "      <td>9799.102559</td>\n",
       "      <td>1</td>\n",
       "    </tr>\n",
       "    <tr>\n",
       "      <th>2</th>\n",
       "      <td>60000</td>\n",
       "      <td>8990.630661</td>\n",
       "      <td>9798.500761</td>\n",
       "      <td>2</td>\n",
       "    </tr>\n",
       "    <tr>\n",
       "      <th>3</th>\n",
       "      <td>90000</td>\n",
       "      <td>8977.928726</td>\n",
       "      <td>9798.810724</td>\n",
       "      <td>3</td>\n",
       "    </tr>\n",
       "    <tr>\n",
       "      <th>4</th>\n",
       "      <td>120000</td>\n",
       "      <td>8967.713103</td>\n",
       "      <td>9797.922752</td>\n",
       "      <td>4</td>\n",
       "    </tr>\n",
       "  </tbody>\n",
       "</table>\n",
       "</div>"
      ],
      "text/plain": [
       "   timestamp  node_cpu_usage  node_memory_usage  time_idx\n",
       "0          0     9027.989180        9799.291909         0\n",
       "1      30000     8992.537052        9799.102559         1\n",
       "2      60000     8990.630661        9798.500761         2\n",
       "3      90000     8977.928726        9798.810724         3\n",
       "4     120000     8967.713103        9797.922752         4"
      ]
     },
     "execution_count": 59,
     "metadata": {},
     "output_type": "execute_result"
    }
   ],
   "source": [
    "source_data.head()"
   ]
  },
  {
   "cell_type": "code",
   "execution_count": 61,
   "metadata": {},
   "outputs": [],
   "source": [
    "import numpy as np\n",
    "import pandas as pd\n",
    "import seaborn as sns\n",
    "import matplotlib\n",
    "import matplotlib.pyplot as plt\n",
    "%matplotlib inline\n",
    "from matplotlib.pylab import rcParams\n",
    "rcParams['figure.figsize'] = 15, 6\n"
   ]
  },
  {
   "cell_type": "code",
   "execution_count": 64,
   "metadata": {},
   "outputs": [
    {
     "data": {
      "text/plain": [
       "[<matplotlib.lines.Line2D at 0x22b89b630a0>]"
      ]
     },
     "execution_count": 64,
     "metadata": {},
     "output_type": "execute_result"
    },
    {
     "data": {
      "image/png": "[encoded data removed]",
      "text/plain": [
       "<Figure size 1080x432 with 1 Axes>"
      ]
     },
     "metadata": {
      "needs_background": "light"
     },
     "output_type": "display_data"
    }
   ],
   "source": [
    "\n",
    "plt.plot(source_data['time_idx'], source_data['node_memory_usage'])"
   ]
  }
 ],
 "metadata": {
  "interpreter": {
   "hash": "fcf34018491d9bd3ef31166662b4dd1e52e7c1b62f1d6d6644835049dcdb0d97"
  },
  "kernelspec": {
   "display_name": "Python 3.9.11 64-bit",
   "language": "python",
   "name": "python3"
  },
  "language_info": {
   "codemirror_mode": {
    "name": "ipython",
    "version": 3
   },
   "file_extension": ".py",
   "mimetype": "text/x-python",
   "name": "python",
   "nbconvert_exporter": "python",
   "pygments_lexer": "ipython3",
   "version": "3.9.11"
  },
  "orig_nbformat": 4
 },
 "nbformat": 4,
 "nbformat_minor": 2
}
