{
 "cells": [
  {
   "cell_type": "markdown",
   "metadata": {},
   "source": [
    "# 读取数据并进行送入模型前准备"
   ]
  },
  {
   "cell_type": "code",
   "execution_count": 2,
   "metadata": {},
   "outputs": [],
   "source": [
    "import pandas as pd\n",
    "from darts import TimeSeries\n",
    "import numpy as np\n",
    "import matplotlib\n",
    "import matplotlib.pyplot as plt"
   ]
  },
  {
   "cell_type": "markdown",
   "metadata": {},
   "source": [
    "## 加载数据并进行表连接"
   ]
  },
  {
   "cell_type": "code",
   "execution_count": 3,
   "metadata": {},
   "outputs": [],
   "source": [
    "DATA_DIR = '../data/'\n",
    "\n",
    "# 从文件中导入数据到dataframe中\n",
    "def get_df(file, header=None):\n",
    "    df = pd.read_csv(file, header=None)\n",
    "    # df.columns = DF_HEADER.get(key, df.columns)\n",
    "    df.columns = pd.read_csv(\"{}.header\".format(file.split('.csv')[0])).columns if header is None else header\n",
    "    return df\n",
    "\n",
    "dfjob = get_df(DATA_DIR + 'pai_job_table.csv')\n",
    "dftask = get_df(DATA_DIR + 'pai_task_table.csv')\n",
    "dfinstance = get_df(DATA_DIR + 'pai_instance_table.csv')\n",
    "dfsensor = get_df(DATA_DIR + 'pai_sensor_table.csv')\n",
    "dfgroup = get_df(DATA_DIR + 'pai_group_tag_table.csv')\n",
    "dfp_spec = get_df(DATA_DIR + 'pai_machine_spec.csv')\n",
    "dfm_metric = get_df(DATA_DIR + 'pai_machine_metric.csv')"
   ]
  },
  {
   "cell_type": "code",
   "execution_count": 4,
   "metadata": {},
   "outputs": [
    {
     "name": "stdout",
     "output_type": "stream",
     "text": [
      "dft + dfj ...\n",
      "dft + dfj + dfi ...\n",
      "dft + dfj + dfi + dfg ...\n"
     ]
    }
   ],
   "source": [
    "def get_dfia(dfi):\n",
    "    dfi_s = dfi[dfi.start_time > 0][['job_name','task_name','start_time']].groupby(['job_name','task_name']).min()  # start_time\n",
    "    dfi_e = dfi[dfi.end_time > 0][['job_name','task_name','end_time']].groupby(['job_name','task_name']).max()  # end_time\n",
    "    dfi_m = dfi[(dfi.start_time > 0) & (dfi.end_time > 0)][['job_name','task_name','end_time','start_time']]\n",
    "    dfi_m['runtime'] = dfi_m.end_time-dfi_m.start_time\n",
    "    dfi_m = dfi_m.groupby(['job_name','task_name']).mean()[['runtime']].reset_index() # runtime\n",
    "    dfi_u = dfi[['job_name','task_name','status']].drop_duplicates().groupby(['job_name','task_name']).max() # status\n",
    "    dfia = dfi_u\n",
    "    for df in [dfi_s, dfi_e, dfi_m]:\n",
    "        dfia = dfia.merge(df, on=['job_name','task_name'], how='left')\n",
    "    return dfia\n",
    "\n",
    "def get_dfa(dft, dfj, dfi, dfg):\n",
    "    print('dft + dfj ...')\n",
    "    dfa = dft.merge(dfj, on=['job_name'], suffixes = ['','_j'])\n",
    "    dfa.loc[dfa.start_time==0, 'start_time'] = np.nan\n",
    "    dfa.loc[dfa.start_time==0, 'end_time'] = np.nan\n",
    "    dfa['runtime'] = dfa.end_time - dfa.start_time\n",
    "    print('dft + dfj + dfi ...')\n",
    "    dfia = get_dfia(dfi)\n",
    "    dfa = dfa.merge(dfia, on=['job_name','task_name'], suffixes=['','_i'])\n",
    "    dfa['duration_min'] = dfa.runtime_i / 60  # duration of instances\n",
    "    dfa['wait_time'] = dfa.start_time_i - dfa.start_time # task wait time\n",
    "    dfa['start_date']=dfa.start_time.apply(pd.Timestamp, unit='s', tz='Asia/Shanghai') # task start time\n",
    "    # dfa = dfa[dfa.status=='Terminated']\n",
    "    print('dft + dfj + dfi + dfg ...')\n",
    "    dfa = dfa.merge(dfg[[x for x in dfg.columns if x != 'user']], on='inst_id', how='left')  # reserve NaN ones by how='left'\n",
    "    dfa.loc[dfa.group.isnull(),'group'] = dfa.loc[dfa.group.isnull(), 'user']  # fill group==NaN ones with user\n",
    "    return dfa\n",
    "\n",
    "dfa = get_dfa(dftask, dfjob, dfinstance, dfgroup)"
   ]
  },
  {
   "cell_type": "code",
   "execution_count": 5,
   "metadata": {},
   "outputs": [
    {
     "name": "stdout",
     "output_type": "stream",
     "text": [
      "dfi + dft ...\n",
      "dfi + dft + dfg ...\n"
     ]
    }
   ],
   "source": [
    "def get_dfiw(dfi):\n",
    "    dfiw = dfi.sort_values(['status','start_time','end_time'])\n",
    "    dfiw.drop_duplicates(subset=['worker_name'], keep='last', inplace=True)\n",
    "    dfiw.dropna(subset=['worker_name'], inplace=True)\n",
    "    dfiw['runtime'] = dfiw[(dfiw.start_time>0)&(dfiw.end_time>0)]['end_time'] \\\n",
    "                    - dfiw[(dfiw.start_time>0)&(dfiw.end_time>0)]['start_time']\n",
    "    dfiw.loc[dfiw.start_time==0, 'start_time'] = np.nan\n",
    "    dfiw.loc[dfiw.start_time==0, 'end_time'] = np.nan\n",
    "    return dfiw\n",
    "\n",
    "def get_dfw(dfi, dft, dfg):\n",
    "    dfw = get_dfiw(dfi)\n",
    "    dfw['start_date']=dfw.start_time.apply(pd.Timestamp, unit='s', tz='Asia/Shanghai')\n",
    "    print('dfi + dft ...')\n",
    "    dfw = dfw.merge(dft, on=['job_name','task_name'], how='left', suffixes=['', '_t'])\n",
    "    print('dfi + dft + dfg ...')\n",
    "    dfw = dfw.merge(dfg, on='inst_id', how='left')  # reserve NaN ones by how='left'\n",
    "    dfw.loc[dfw.group.isnull(),'group'] = dfw.loc[dfw.group.isnull(), 'user']  # fill group==NaN ones with user\n",
    "    return dfw\n",
    "\n",
    "dfw = get_dfw(dfinstance, dftask, dfgroup)"
   ]
  },
  {
   "cell_type": "code",
   "execution_count": 6,
   "metadata": {},
   "outputs": [],
   "source": [
    "dfws = dfw.merge(dfp_spec.drop(columns={'gpu_type'}), on='machine', how='left')\n",
    "dfws = dfws.merge(dfsensor.drop(columns=['job_name','task_name','inst_id','machine']), on='worker_name')"
   ]
  },
  {
   "cell_type": "code",
   "execution_count": 7,
   "metadata": {},
   "outputs": [],
   "source": [
    "dfas = dfws.groupby(['job_name','task_name'])[['cpu_usage','gpu_wrk_util','avg_mem','avg_gpu_wrk_mem','plan_cpu','plan_gpu','plan_mem','cap_cpu','cap_gpu','cap_mem']].sum()\n",
    "dfas = dfa.drop(columns=['plan_cpu','plan_mem','plan_gpu']).merge(dfas, on=['job_name','task_name'])"
   ]
  },
  {
   "cell_type": "markdown",
   "metadata": {},
   "source": [
    "## 按照模型要求调整Dataframe"
   ]
  },
  {
   "cell_type": "markdown",
   "metadata": {},
   "source": [
    "#### 生成每分钟作业提交数的Dataframe"
   ]
  },
  {
   "cell_type": "code",
   "execution_count": 10,
   "metadata": {},
   "outputs": [],
   "source": [
    "# 生成 min 列表示时间顺序\n",
    "dfa['minofyear'] = dfa.start_date.apply(lambda c: (c.dayofyear * 24)*60 + (c.hour)*60 + c.minute)\n",
    "# 按照分钟进行聚合 统计job的数量\n",
    "df_job_of_min = dfa.groupby('minofyear').count()[['job_name']].reset_index()\n",
    "# 再按照 min 顺序进行排序\n",
    "df_job_of_min.sort_values(\"minofyear\", inplace=True)"
   ]
  },
  {
   "cell_type": "code",
   "execution_count": 11,
   "metadata": {},
   "outputs": [
    {
     "data": {
      "text/html": [
       "<div>\n",
       "<style scoped>\n",
       "    .dataframe tbody tr th:only-of-type {\n",
       "        vertical-align: middle;\n",
       "    }\n",
       "\n",
       "    .dataframe tbody tr th {\n",
       "        vertical-align: top;\n",
       "    }\n",
       "\n",
       "    .dataframe thead th {\n",
       "        text-align: right;\n",
       "    }\n",
       "</style>\n",
       "<table border=\"1\" class=\"dataframe\">\n",
       "  <thead>\n",
       "    <tr style=\"text-align: right;\">\n",
       "      <th></th>\n",
       "      <th>minofyear</th>\n",
       "      <th>job_name</th>\n",
       "    </tr>\n",
       "  </thead>\n",
       "  <tbody>\n",
       "    <tr>\n",
       "      <th>0</th>\n",
       "      <td>10158.0</td>\n",
       "      <td>2</td>\n",
       "    </tr>\n",
       "    <tr>\n",
       "      <th>1</th>\n",
       "      <td>10520.0</td>\n",
       "      <td>2</td>\n",
       "    </tr>\n",
       "    <tr>\n",
       "      <th>2</th>\n",
       "      <td>10594.0</td>\n",
       "      <td>2</td>\n",
       "    </tr>\n",
       "    <tr>\n",
       "      <th>3</th>\n",
       "      <td>10782.0</td>\n",
       "      <td>2</td>\n",
       "    </tr>\n",
       "    <tr>\n",
       "      <th>4</th>\n",
       "      <td>10800.0</td>\n",
       "      <td>1</td>\n",
       "    </tr>\n",
       "  </tbody>\n",
       "</table>\n",
       "</div>"
      ],
      "text/plain": [
       "   minofyear  job_name\n",
       "0    10158.0         2\n",
       "1    10520.0         2\n",
       "2    10594.0         2\n",
       "3    10782.0         2\n",
       "4    10800.0         1"
      ]
     },
     "execution_count": 11,
     "metadata": {},
     "output_type": "execute_result"
    }
   ],
   "source": [
    "df_job_of_min.head()"
   ]
  },
  {
   "cell_type": "code",
   "execution_count": 14,
   "metadata": {},
   "outputs": [
    {
     "data": {
      "text/plain": [
       "[<matplotlib.lines.Line2D at 0x130897f8d60>]"
      ]
     },
     "execution_count": 14,
     "metadata": {},
     "output_type": "execute_result"
    },
    {
     "data": {
      "image/png": "[encoded data removed]",
      "text/plain": [
       "<Figure size 1440x432 with 1 Axes>"
      ]
     },
     "metadata": {
      "needs_background": "light"
     },
     "output_type": "display_data"
    }
   ],
   "source": [
    "\n",
    "plt.figure(figsize=(20, 6))\n",
    "# pd.set_option('display.max_colwidth', 1000)\n",
    "# pd.set_option('display.max_columns', 100)\n",
    "# matplotlib.rcParams.update({\"font.size\": 16,'lines.linewidth': 2.5})\n",
    "plt.plot(df_job_of_min.minofyear, df_job_of_min.job_name)"
   ]
  },
  {
   "cell_type": "markdown",
   "metadata": {},
   "source": [
    "在时间点20000后产生规律性，因此进行截取，用20000之后的数据"
   ]
  },
  {
   "cell_type": "code",
   "execution_count": 15,
   "metadata": {},
   "outputs": [],
   "source": [
    "# 寻找第一个 天单位整点整分钟 进行数据截取 \n",
    "# 根据上图显示 20000 之前的点感觉不连续\n",
    "# 直接在 20000 分钟之后的第一个点取样\n",
    "df_job_of_min = df_job_of_min[(df_job_of_min.minofyear>=20160)].set_index('minofyear')[['job_name']]\n",
    "# 再将 index 进行转换\n",
    "df_job_of_min = df_job_of_min.reset_index()"
   ]
  },
  {
   "cell_type": "code",
   "execution_count": 16,
   "metadata": {},
   "outputs": [
    {
     "data": {
      "text/html": [
       "<div>\n",
       "<style scoped>\n",
       "    .dataframe tbody tr th:only-of-type {\n",
       "        vertical-align: middle;\n",
       "    }\n",
       "\n",
       "    .dataframe tbody tr th {\n",
       "        vertical-align: top;\n",
       "    }\n",
       "\n",
       "    .dataframe thead th {\n",
       "        text-align: right;\n",
       "    }\n",
       "</style>\n",
       "<table border=\"1\" class=\"dataframe\">\n",
       "  <thead>\n",
       "    <tr style=\"text-align: right;\">\n",
       "      <th></th>\n",
       "      <th>minofyear</th>\n",
       "      <th>job_name</th>\n",
       "    </tr>\n",
       "  </thead>\n",
       "  <tbody>\n",
       "    <tr>\n",
       "      <th>0</th>\n",
       "      <td>20160.0</td>\n",
       "      <td>6</td>\n",
       "    </tr>\n",
       "    <tr>\n",
       "      <th>1</th>\n",
       "      <td>20161.0</td>\n",
       "      <td>7</td>\n",
       "    </tr>\n",
       "    <tr>\n",
       "      <th>2</th>\n",
       "      <td>20162.0</td>\n",
       "      <td>12</td>\n",
       "    </tr>\n",
       "    <tr>\n",
       "      <th>3</th>\n",
       "      <td>20163.0</td>\n",
       "      <td>3</td>\n",
       "    </tr>\n",
       "    <tr>\n",
       "      <th>4</th>\n",
       "      <td>20164.0</td>\n",
       "      <td>52</td>\n",
       "    </tr>\n",
       "  </tbody>\n",
       "</table>\n",
       "</div>"
      ],
      "text/plain": [
       "   minofyear  job_name\n",
       "0    20160.0         6\n",
       "1    20161.0         7\n",
       "2    20162.0        12\n",
       "3    20163.0         3\n",
       "4    20164.0        52"
      ]
     },
     "execution_count": 16,
     "metadata": {},
     "output_type": "execute_result"
    }
   ],
   "source": [
    "df_job_of_min.head()"
   ]
  },
  {
   "cell_type": "markdown",
   "metadata": {},
   "source": [
    "#### 生成每10分钟作业提交数的Dataframe"
   ]
  },
  {
   "cell_type": "code",
   "execution_count": 12,
   "metadata": {},
   "outputs": [
    {
     "name": "stderr",
     "output_type": "stream",
     "text": [
      "C:\\Users\\liduo\\AppData\\Local\\Temp\\ipykernel_1916\\3641705392.py:3: SettingWithCopyWarning: \n",
      "A value is trying to be set on a copy of a slice from a DataFrame.\n",
      "Try using .loc[row_indexer,col_indexer] = value instead\n",
      "\n",
      "See the caveats in the documentation: https://pandas.pydata.org/pandas-docs/stable/user_guide/indexing.html#returning-a-view-versus-a-copy\n",
      "  df_minofyear_notnoll['10minofyear'] =  df_minofyear_notnoll['minofyear'].apply(lambda c: int(c/10)*10)\n"
     ]
    }
   ],
   "source": [
    "# 以10分钟为单位统计\n",
    "df_minofyear_notnoll = dfa.dropna(subset=['minofyear'])\n",
    "df_minofyear_notnoll['10minofyear'] =  df_minofyear_notnoll['minofyear'].apply(lambda c: int(c/10)*10)\n",
    "dftcc_10min = df_minofyear_notnoll.groupby('10minofyear').count()[['job_name']].reset_index()\n",
    "# 再按照 min 顺序进行排序\n",
    "dftcc_10min.sort_values(\"10minofyear\", inplace=True)"
   ]
  },
  {
   "cell_type": "code",
   "execution_count": 13,
   "metadata": {},
   "outputs": [
    {
     "data": {
      "text/html": [
       "<div>\n",
       "<style scoped>\n",
       "    .dataframe tbody tr th:only-of-type {\n",
       "        vertical-align: middle;\n",
       "    }\n",
       "\n",
       "    .dataframe tbody tr th {\n",
       "        vertical-align: top;\n",
       "    }\n",
       "\n",
       "    .dataframe thead th {\n",
       "        text-align: right;\n",
       "    }\n",
       "</style>\n",
       "<table border=\"1\" class=\"dataframe\">\n",
       "  <thead>\n",
       "    <tr style=\"text-align: right;\">\n",
       "      <th></th>\n",
       "      <th>10minofyear</th>\n",
       "      <th>job_name</th>\n",
       "    </tr>\n",
       "  </thead>\n",
       "  <tbody>\n",
       "    <tr>\n",
       "      <th>0</th>\n",
       "      <td>10150</td>\n",
       "      <td>2</td>\n",
       "    </tr>\n",
       "    <tr>\n",
       "      <th>1</th>\n",
       "      <td>10520</td>\n",
       "      <td>2</td>\n",
       "    </tr>\n",
       "    <tr>\n",
       "      <th>2</th>\n",
       "      <td>10590</td>\n",
       "      <td>2</td>\n",
       "    </tr>\n",
       "    <tr>\n",
       "      <th>3</th>\n",
       "      <td>10780</td>\n",
       "      <td>2</td>\n",
       "    </tr>\n",
       "    <tr>\n",
       "      <th>4</th>\n",
       "      <td>10800</td>\n",
       "      <td>1</td>\n",
       "    </tr>\n",
       "  </tbody>\n",
       "</table>\n",
       "</div>"
      ],
      "text/plain": [
       "   10minofyear  job_name\n",
       "0        10150         2\n",
       "1        10520         2\n",
       "2        10590         2\n",
       "3        10780         2\n",
       "4        10800         1"
      ]
     },
     "execution_count": 13,
     "metadata": {},
     "output_type": "execute_result"
    }
   ],
   "source": [
    "dftcc_10min.head()"
   ]
  },
  {
   "cell_type": "markdown",
   "metadata": {},
   "source": [
    "同样选取20000以后的"
   ]
  },
  {
   "cell_type": "code",
   "execution_count": 17,
   "metadata": {},
   "outputs": [],
   "source": [
    "dft_job_of_10min = dftcc_10min[(dftcc_10min['10minofyear']>=20160)].set_index('10minofyear')[['job_name']]\n",
    "# 再将 index 进行转换\n",
    "dft_job_of_10min = dft_job_of_10min.reset_index()"
   ]
  },
  {
   "cell_type": "code",
   "execution_count": 18,
   "metadata": {},
   "outputs": [
    {
     "data": {
      "text/html": [
       "<div>\n",
       "<style scoped>\n",
       "    .dataframe tbody tr th:only-of-type {\n",
       "        vertical-align: middle;\n",
       "    }\n",
       "\n",
       "    .dataframe tbody tr th {\n",
       "        vertical-align: top;\n",
       "    }\n",
       "\n",
       "    .dataframe thead th {\n",
       "        text-align: right;\n",
       "    }\n",
       "</style>\n",
       "<table border=\"1\" class=\"dataframe\">\n",
       "  <thead>\n",
       "    <tr style=\"text-align: right;\">\n",
       "      <th></th>\n",
       "      <th>10minofyear</th>\n",
       "      <th>job_name</th>\n",
       "    </tr>\n",
       "  </thead>\n",
       "  <tbody>\n",
       "    <tr>\n",
       "      <th>0</th>\n",
       "      <td>20160</td>\n",
       "      <td>148</td>\n",
       "    </tr>\n",
       "    <tr>\n",
       "      <th>1</th>\n",
       "      <td>20170</td>\n",
       "      <td>168</td>\n",
       "    </tr>\n",
       "    <tr>\n",
       "      <th>2</th>\n",
       "      <td>20180</td>\n",
       "      <td>87</td>\n",
       "    </tr>\n",
       "    <tr>\n",
       "      <th>3</th>\n",
       "      <td>20190</td>\n",
       "      <td>206</td>\n",
       "    </tr>\n",
       "    <tr>\n",
       "      <th>4</th>\n",
       "      <td>20200</td>\n",
       "      <td>205</td>\n",
       "    </tr>\n",
       "  </tbody>\n",
       "</table>\n",
       "</div>"
      ],
      "text/plain": [
       "   10minofyear  job_name\n",
       "0        20160       148\n",
       "1        20170       168\n",
       "2        20180        87\n",
       "3        20190       206\n",
       "4        20200       205"
      ]
     },
     "execution_count": 18,
     "metadata": {},
     "output_type": "execute_result"
    }
   ],
   "source": [
    "dft_job_of_10min.head()"
   ]
  },
  {
   "cell_type": "markdown",
   "metadata": {},
   "source": [
    "# 对 df_job_of_year进行截取"
   ]
  }
 ],
 "metadata": {
  "kernelspec": {
   "display_name": "Python 3.9.11 64-bit",
   "language": "python",
   "name": "python3"
  },
  "language_info": {
   "codemirror_mode": {
    "name": "ipython",
    "version": 3
   },
   "file_extension": ".py",
   "mimetype": "text/x-python",
   "name": "python",
   "nbconvert_exporter": "python",
   "pygments_lexer": "ipython3",
   "version": "3.9.11"
  },
  "orig_nbformat": 4,
  "vscode": {
   "interpreter": {
    "hash": "fcf34018491d9bd3ef31166662b4dd1e52e7c1b62f1d6d6644835049dcdb0d97"
   }
  }
 },
 "nbformat": 4,
 "nbformat_minor": 2
}
